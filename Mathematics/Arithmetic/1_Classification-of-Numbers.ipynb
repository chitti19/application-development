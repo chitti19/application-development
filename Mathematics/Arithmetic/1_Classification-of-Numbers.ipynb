{
 "cells": [
  {
   "cell_type": "markdown",
   "id": "b0dde973-5429-49f2-9f3d-d5c613acfaa8",
   "metadata": {},
   "source": [
    "# **Classification of Numbers**\n",
    "Numbers can be classified into several types, including natural numbers, whole numbers, integers, rational numbers, and irrational numbers. These are further categorized under real numbers, which include complex numbers and imaginary numbers, and other types like even, odd, prime, and composite numbers. "
   ]
  },
  {
   "cell_type": "markdown",
   "id": "09bcf707-213d-45dd-9cf6-5347e70ed1f3",
   "metadata": {},
   "source": [
    "## Based on quantity and value \n",
    "\n",
    "**Real Numbers:** All rational and irrational numbers. This set forms a continuous number line.\\\n",
    "**Complex Numbers:** A combination of a real number and an imaginary number *(e.g., 𝑎+𝑏𝑖)*\\\n",
    "**Imaginary Numbers:** A number that, when multiplied by itself, yields a negative number *(e.g., 𝑖, where i²=−1)*"
   ]
  },
  {
   "cell_type": "code",
   "execution_count": null,
   "id": "ec273fe1-03b7-4126-849a-2f4b72221741",
   "metadata": {},
   "outputs": [],
   "source": [
    "# Program to classify a number as Real, Imaginary, or Complex\n",
    "\n",
    "# Get user input\n",
    "num_input = input(\"Enter a number: \")\n",
    "\n",
    "try:\n",
    "    # Try to evaluate input as a number (real or complex)\n",
    "    num = complex(num_input)\n",
    "    \n",
    "    if num.imag == 0:\n",
    "        print(\"The number is Real.\")\n",
    "    elif num.real == 0:\n",
    "        print(\"The number is Imaginary.\")\n",
    "    else:\n",
    "        print(\"The number is Complex.\")\n",
    "        \n",
    "except ValueError:\n",
    "    print(\"Invalid input! Please enter a valid number.\")\n"
   ]
  },
  {
   "cell_type": "markdown",
   "id": "8559ea40-5351-4c1a-bf99-067e4a0f883a",
   "metadata": {},
   "source": [
    "**Rational Numbers:** Any number that can be expressed as a fraction 𝑝/𝑞, where 𝑝 and 𝑞 are integers and 𝑞 is not zero *(e.g., 1/2, -4/5, 3)*\\\n",
    "**Irrational Numbers:** Real numbers that cannot be expressed as a simple fraction *(e.g., 𝜋, √2)*"
   ]
  },
  {
   "cell_type": "code",
   "execution_count": null,
   "id": "cdf1ccea-58d0-4426-b85d-c1a1245e7e8f",
   "metadata": {},
   "outputs": [],
   "source": [
    "# Program to classify a number as Rational or Irrational\n",
    "\n",
    "import math\n",
    "\n",
    "# Get user input\n",
    "num_input = input(\"Enter a number: \")\n",
    "\n",
    "try:\n",
    "    # Convert input to float\n",
    "    num = float(num_input)\n",
    "    \n",
    "    # Check if number is rational or irrational\n",
    "    # A rational number can be expressed as a fraction (its decimal part ends or repeats)\n",
    "    # Since Python can't detect repeating decimals easily, we check for common irrational patterns\n",
    "    if math.isfinite(num):\n",
    "        sqrt = math.isqrt(int(num)) if num > 0 else None\n",
    "        if num.is_integer():\n",
    "            print(\"The number is Rational.\")\n",
    "        elif math.sqrt(num)**2 == num:\n",
    "            print(\"The number is Rational (perfect square).\")\n",
    "        else:\n",
    "            # Try to detect irrational forms (like square roots or non-repeating decimals)\n",
    "            print(\"The number is Irrational.\")\n",
    "    else:\n",
    "        print(\"The number is not finite.\")\n",
    "        \n",
    "except ValueError:\n",
    "    print(\"Invalid input! Please enter a valid real number.\")\n"
   ]
  },
  {
   "cell_type": "markdown",
   "id": "4716b74e-1a2b-48cf-9b3a-59bd37955560",
   "metadata": {},
   "source": [
    "**Integers:** All whole numbers and their negative counterparts *(e.g., ...,-3,-2,-1,0,1,2,3,...)*\\\n",
    "**Whole Numbers:** The set of natural numbers plus zero *(e.g., 0,1,2,3,...).*\\\n",
    "**Natural Numbers:** Positive counting numbers *(e.g., 1,2,3,...)*"
   ]
  },
  {
   "cell_type": "code",
   "execution_count": null,
   "id": "5cb6cd9e-7ac1-4b24-bd83-450a7435fed0",
   "metadata": {},
   "outputs": [],
   "source": [
    "# Program to classify a number as Natural, Whole, or Integer\n",
    "\n",
    "# Get user input\n",
    "num_input = input(\"Enter a number: \")\n",
    "\n",
    "try:\n",
    "    # Convert input to float first (to handle decimals)\n",
    "    num = float(num_input)\n",
    "    \n",
    "    # Check if number is an integer (no decimal part)\n",
    "    if num.is_integer():\n",
    "        num = int(num)\n",
    "        \n",
    "        if num > 0:\n",
    "            print(\"The number is a Natural number, Whole number, and Integer.\")\n",
    "        elif num == 0:\n",
    "            print(\"The number is a Whole number and Integer (but not Natural).\")\n",
    "        else:\n",
    "            print(\"The number is an Integer (but not Whole or Natural).\")\n",
    "    else:\n",
    "        print(\"The number is not an Integer, Whole, or Natural number.\")\n",
    "        \n",
    "except ValueError:\n",
    "    print(\"Invalid input! Please enter a valid number.\")\n"
   ]
  },
  {
   "cell_type": "markdown",
   "id": "0083f0c1-a3d6-4de0-b162-a7ecb3b51610",
   "metadata": {},
   "source": [
    "## Based on divisibility and properties \n",
    "\n",
    "**Even Numbers:** Integers that are divisible by 2 *(e.g., 2,4,6,8)*\\\n",
    "**Odd Numbers:** Integers that are not divisible by 2 *(e.g., 1,3,5,7)*"
   ]
  },
  {
   "cell_type": "code",
   "execution_count": null,
   "id": "0f7aa91f-d2fe-4727-8b07-c63c9474f481",
   "metadata": {},
   "outputs": [],
   "source": [
    "# Program to classify a number as Odd or Even\n",
    "\n",
    "# Get user input\n",
    "num_input = input(\"Enter a number: \")\n",
    "\n",
    "try:\n",
    "    # Convert input to integer\n",
    "    num = int(num_input)\n",
    "    \n",
    "    if num % 2 == 0:\n",
    "        print(\"The number is Even.\")\n",
    "    else:\n",
    "        print(\"The number is Odd.\")\n",
    "        \n",
    "except ValueError:\n",
    "    print(\"Invalid input! Please enter a valid integer.\")\n"
   ]
  },
  {
   "cell_type": "markdown",
   "id": "a32121ed-7df4-4a58-b4c8-33e303e63d66",
   "metadata": {},
   "source": [
    "**Prime Numbers:** Integers greater than 1 that have only two factors: 1 and themselves *(e.g., 2,3,5,7)*"
   ]
  },
  {
   "cell_type": "code",
   "execution_count": null,
   "id": "4911e246-a19d-4a82-9a71-9fe48f1d14ca",
   "metadata": {},
   "outputs": [],
   "source": [
    "# Program to check if a number is Prime\n",
    "\n",
    "# Get user input\n",
    "num_input = input(\"Enter a number: \")\n",
    "\n",
    "try:\n",
    "    num = int(num_input)\n",
    "    \n",
    "    if num <= 1:\n",
    "        print(\"The number is not Prime.\")\n",
    "    else:\n",
    "        # Check for factors from 2 to sqrt(num)\n",
    "        is_prime = True\n",
    "        for i in range(2, int(num**0.5) + 1):\n",
    "            if num % i == 0:\n",
    "                is_prime = False\n",
    "                break\n",
    "        \n",
    "        if is_prime:\n",
    "            print(\"The number is Prime.\")\n",
    "        else:\n",
    "            print(\"The number is Not Prime.\")\n",
    "            \n",
    "except ValueError:\n",
    "    print(\"Invalid input! Please enter a valid integer.\")\n"
   ]
  },
  {
   "cell_type": "markdown",
   "id": "62e1f2fa-370f-4077-ad39-391cd5cebc84",
   "metadata": {},
   "source": [
    "**Composite Numbers:** Integers greater than 1 that have more than two factors *(e.g., 4,6,8,9)*"
   ]
  },
  {
   "cell_type": "code",
   "execution_count": null,
   "id": "0eff26ee-331c-40e7-84fe-2732219ea836",
   "metadata": {},
   "outputs": [],
   "source": [
    "# Program to check if a number is Composite\n",
    "\n",
    "# Get user input\n",
    "num_input = input(\"Enter a number: \")\n",
    "\n",
    "try:\n",
    "    num = int(num_input)\n",
    "    \n",
    "    if num <= 1:\n",
    "        print(\"The number is neither Composite nor Prime.\")\n",
    "    else:\n",
    "        # A number is composite if it has a factor other than 1 and itself\n",
    "        is_composite = False\n",
    "        for i in range(2, int(num**0.5) + 1):\n",
    "            if num % i == 0:\n",
    "                is_composite = True\n",
    "                break\n",
    "        \n",
    "        if is_composite:\n",
    "            print(\"The number is Composite.\")\n",
    "        else:\n",
    "            print(\"The number is Not Composite (it is Prime).\")\n",
    "            \n",
    "except ValueError:\n",
    "    print(\"Invalid input! Please enter a valid integer.\")\n"
   ]
  }
 ],
 "metadata": {
  "kernelspec": {
   "display_name": "Python 3 (ipykernel)",
   "language": "python",
   "name": "python3"
  },
  "language_info": {
   "codemirror_mode": {
    "name": "ipython",
    "version": 3
   },
   "file_extension": ".py",
   "mimetype": "text/x-python",
   "name": "python",
   "nbconvert_exporter": "python",
   "pygments_lexer": "ipython3",
   "version": "3.13.9"
  }
 },
 "nbformat": 4,
 "nbformat_minor": 5
}
