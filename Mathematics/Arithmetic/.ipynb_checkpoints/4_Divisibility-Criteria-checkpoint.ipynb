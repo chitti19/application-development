{
 "cells": [
  {
   "cell_type": "markdown",
   "id": "7cd4c46c-9348-46aa-a937-9c7872ff0d25",
   "metadata": {},
   "source": [
    "# **Divisibility Criteria**"
   ]
  },
  {
   "cell_type": "markdown",
   "id": "8c55462e-e8b1-4b3a-8e06-206b3bbc4efd",
   "metadata": {},
   "source": [
    "## Divisibility Criteria for 2\n",
    "\n",
    "If the **last digit** is **Even** or **Zero**"
   ]
  },
  {
   "cell_type": "code",
   "execution_count": 6,
   "id": "332260a3-5d0a-4d3b-8a41-60899e5baf3c",
   "metadata": {},
   "outputs": [
    {
     "name": "stdin",
     "output_type": "stream",
     "text": [
      "Enter a number:  50\n"
     ]
    },
    {
     "name": "stdout",
     "output_type": "stream",
     "text": [
      "50 is divisible by 2\n"
     ]
    }
   ],
   "source": [
    "# Get user input\n",
    "num = int(input(\"Enter a number: \"))\n",
    "\n",
    "# Find the last digit\n",
    "last_digit = abs(num) % 10  # abs() ensures it works for negative numbers too\n",
    "\n",
    "# Check divisibility by 2\n",
    "if last_digit % 2 == 0 or last_digit == 0:\n",
    "    print(f\"{num} is divisible by 2\")\n",
    "else:\n",
    "    print(f\"{num} is not divisible by 2\")"
   ]
  },
  {
   "cell_type": "markdown",
   "id": "262b6814-7e73-467d-b77b-a0764730b56c",
   "metadata": {},
   "source": [
    "## Divisibility Criteria for 3\n",
    "\n",
    "If the **sum** of all individual digits is **divisible by 3**"
   ]
  },
  {
   "cell_type": "code",
   "execution_count": 18,
   "id": "8a333b67-631b-4ac9-8d7b-474cd740a3a3",
   "metadata": {},
   "outputs": [
    {
     "name": "stdin",
     "output_type": "stream",
     "text": [
      "Enter a number:  4544\n"
     ]
    },
    {
     "name": "stdout",
     "output_type": "stream",
     "text": [
      "Sum of the digits: 17\n",
      "4544 is NOT divisible by 3.\n"
     ]
    }
   ],
   "source": [
    "# Input from the user\n",
    "num = int(input(\"Enter a number: \"))\n",
    "\n",
    "# Initialize sum\n",
    "sum_digits = 0\n",
    "\n",
    "# Work with absolute value to handle negative numbers\n",
    "n = abs(num)\n",
    "\n",
    "# Loop to extract digits and add them\n",
    "while n > 0:\n",
    "    digit = n % 10\n",
    "    sum_digits += digit\n",
    "    n = n // 10\n",
    "\n",
    "print(\"Sum of the digits:\", sum_digits)\n",
    "\n",
    "# Check divisibility by 3\n",
    "if sum_digits % 3 == 0:\n",
    "    print(f\"{num} is divisible by 3.\")\n",
    "else:\n",
    "    print(f\"{num} is NOT divisible by 3.\")"
   ]
  },
  {
   "cell_type": "markdown",
   "id": "d23b11fe-bb4b-4768-a3a7-a1c1a795b638",
   "metadata": {},
   "source": [
    "## Divisibility Criteria for 4\n",
    "\n",
    "If **last two digits** are **zeros** or form a number **divisible by 4**"
   ]
  },
  {
   "cell_type": "code",
   "execution_count": 8,
   "id": "eafe0da5-e872-41f5-80ae-2b052a8b3135",
   "metadata": {},
   "outputs": [
    {
     "name": "stdin",
     "output_type": "stream",
     "text": [
      "Enter a number:  45\n"
     ]
    },
    {
     "name": "stdout",
     "output_type": "stream",
     "text": [
      "45 not divisible by 4\n"
     ]
    }
   ],
   "source": [
    "# Input number\n",
    "num = int(input(\"Enter a number: \"))\n",
    "\n",
    "# Get last two digits\n",
    "last_two_digits = num % 100\n",
    "\n",
    "# Check conditions\n",
    "if last_two_digits == 0:\n",
    "    print(f\"{num} divisible by 4\")\n",
    "elif last_two_digits % 4 == 0:\n",
    "    print(f\"{num} divisible by 4\")\n",
    "else:\n",
    "    print(f\"{num} not divisible by 4\")"
   ]
  },
  {
   "cell_type": "markdown",
   "id": "5c9c34a2-c8f5-4026-96f8-40a1d6e99498",
   "metadata": {},
   "source": [
    "## Divisibility Criteria for 5\n",
    "\n",
    "If the **last digit** is **5** or **0**"
   ]
  },
  {
   "cell_type": "code",
   "execution_count": 10,
   "id": "8eb472e4-7772-4187-bd40-add596acc105",
   "metadata": {},
   "outputs": [
    {
     "name": "stdin",
     "output_type": "stream",
     "text": [
      "Enter a number:  20\n"
     ]
    },
    {
     "name": "stdout",
     "output_type": "stream",
     "text": [
      "20 is divisible by 5\n"
     ]
    }
   ],
   "source": [
    "# Get user input\n",
    "num = int(input(\"Enter a number: \"))\n",
    "\n",
    "# Find the last digit\n",
    "last_digit = abs(num) % 10  # abs() ensures it works for negative numbers too\n",
    "\n",
    "# Check divisibility by 2\n",
    "if last_digit % 5 == 0 or last_digit == 0:\n",
    "    print(f\"{num} is divisible by 5\")\n",
    "else:\n",
    "    print(f\"{num} is not divisible by 5\")"
   ]
  },
  {
   "cell_type": "markdown",
   "id": "22adf3fd-a1f9-4689-b9f2-7e28e74a9bac",
   "metadata": {},
   "source": [
    "## Divisibility Criteria for 6\n",
    "\n",
    "If **divisible** by **3 and 2**"
   ]
  },
  {
   "cell_type": "code",
   "execution_count": 11,
   "id": "b340f0ec-6534-4aa5-ae80-52d9836aab02",
   "metadata": {},
   "outputs": [
    {
     "name": "stdin",
     "output_type": "stream",
     "text": [
      "Enter a number:  24\n"
     ]
    },
    {
     "name": "stdout",
     "output_type": "stream",
     "text": [
      "24 is divisible by 6\n"
     ]
    }
   ],
   "source": [
    "# Get user input\n",
    "num = int(input(\"Enter a number: \"))\n",
    "\n",
    "# Check divisibility\n",
    "if num % 2 == 0 and num % 3 == 0:\n",
    "    print(f\"{num} is divisible by 6\")\n",
    "else:\n",
    "    print(f\"{num} is not divisible 6\")"
   ]
  },
  {
   "cell_type": "markdown",
   "id": "b156fcab-6a02-4761-b798-24d747a53784",
   "metadata": {},
   "source": [
    "## Divisibility Criterial for 7\n",
    "\n",
    "Removing the last digit, **double** it, and **subtract** it from the remaining number. If the final result is **0** or a multiple of **7**"
   ]
  },
  {
   "cell_type": "code",
   "execution_count": 15,
   "id": "a557d1cb-a9e7-4e7c-932e-0ff069861ff5",
   "metadata": {},
   "outputs": [
    {
     "name": "stdin",
     "output_type": "stream",
     "text": [
      "Enter a number:  147\n"
     ]
    },
    {
     "name": "stdout",
     "output_type": "stream",
     "text": [
      "147 is divisible by 7\n"
     ]
    }
   ],
   "source": [
    "# Get user input\n",
    "num = int(input(\"Enter a number: \"))\n",
    "\n",
    "n = abs(num)  # Handle negative numbers\n",
    "\n",
    "while n >= 10:\n",
    "    last_digit = n % 10\n",
    "    remaining = n // 10\n",
    "    n = remaining - 2 * last_digit\n",
    "if n % 7 == 0 or n == 0:\n",
    "    print(f\"{num} is divisible by 7\")\n",
    "else:\n",
    "    print(f\"{num} is not divisible by 7\")"
   ]
  },
  {
   "cell_type": "markdown",
   "id": "1f2fb580-94b2-4a4e-a38e-571c8a90c2ea",
   "metadata": {},
   "source": [
    "## Divisibility Criteria for 8\n",
    "\n",
    "If the **last 3** digits is divisible by **8**"
   ]
  },
  {
   "cell_type": "code",
   "execution_count": 17,
   "id": "a2cc3d41-1bde-44fb-8a10-fd819318d34c",
   "metadata": {},
   "outputs": [
    {
     "name": "stdin",
     "output_type": "stream",
     "text": [
      "Enter a number:  561152800\n"
     ]
    },
    {
     "name": "stdout",
     "output_type": "stream",
     "text": [
      "561152800 is divisible by 8\n"
     ]
    }
   ],
   "source": [
    "# Input from the user\n",
    "num = int(input(\"Enter a number: \"))\n",
    "\n",
    "# Get the last three digits\n",
    "last_three_digits = num % 1000\n",
    "\n",
    "# Check divisibility by 8\n",
    "if last_three_digits % 8 == 0:\n",
    "    print(f\"{num} is divisible by 8\")\n",
    "else:\n",
    "    print(f\"{num} is not divisible by 8\")"
   ]
  },
  {
   "cell_type": "markdown",
   "id": "62418ae8-a75b-494e-97f8-33d315a5fc84",
   "metadata": {},
   "source": [
    "## Divisibility Criteria for 9\n",
    "\n",
    "If **sum** of all digits is divisible by **9**"
   ]
  },
  {
   "cell_type": "code",
   "execution_count": 20,
   "id": "ec43a002-3e0c-4c27-8212-2ba5091c76a1",
   "metadata": {},
   "outputs": [
    {
     "name": "stdin",
     "output_type": "stream",
     "text": [
      "Enter a number:  5223\n"
     ]
    },
    {
     "name": "stdout",
     "output_type": "stream",
     "text": [
      "5223 is not divisible by 9\n"
     ]
    }
   ],
   "source": [
    "# Input from the user\n",
    "num = int(input(\"Enter a number: \"))\n",
    "\n",
    "# Calculate the sum of digits\n",
    "sum_of_digits = sum(int(digit) for digit in str(abs(num)))\n",
    "\n",
    "# Check divisibility by 9\n",
    "if sum_of_digits % 9 == 0:\n",
    "    print(f\"{num} is divisible by 9\")\n",
    "else:\n",
    "    print(f\"{num} is not divisible by 9\")"
   ]
  }
 ],
 "metadata": {
  "kernelspec": {
   "display_name": "Python 3 (ipykernel)",
   "language": "python",
   "name": "python3"
  },
  "language_info": {
   "codemirror_mode": {
    "name": "ipython",
    "version": 3
   },
   "file_extension": ".py",
   "mimetype": "text/x-python",
   "name": "python",
   "nbconvert_exporter": "python",
   "pygments_lexer": "ipython3",
   "version": "3.13.9"
  }
 },
 "nbformat": 4,
 "nbformat_minor": 5
}
