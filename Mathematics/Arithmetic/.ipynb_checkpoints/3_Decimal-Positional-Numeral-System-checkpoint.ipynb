{
 "cells": [
  {
   "attachments": {
    "836b806c-9d19-4db4-bb64-06f22f6d99dc.png": {
     "image/png": "[encoded data removed]"
    }
   },
   "cell_type": "markdown",
   "id": "e0386212-b402-45e8-94f0-38a421a12336",
   "metadata": {},
   "source": [
    "# DECIMAL POSITIONAL NUMERAL SYSTEM\n",
    "\n",
    "The **decimal positional numeral system** is the standard number system we use every day. It’s also called the **base-10 system**.\n",
    "\n",
    "### **1. Base-10 System**\n",
    "\n",
    "- It uses **10 digits**:\n",
    "    \n",
    "    `0, 1, 2, 3, 4, 5, 6, 7, 8, 9`\n",
    "    \n",
    "- Every number is represented as a combination of these digits, with the **position of the digit determining its value**.\n",
    "\n",
    "---\n",
    "\n",
    "### **2. Positional Value**\n",
    "\n",
    "In a positional system, the **value of a digit depends on both the digit itself and its position**.\n",
    "\n",
    "The general formula for a number in decimal is:\n",
    "\n",
    "![Screenshot 2025-10-31 154205.png](attachment:836b806c-9d19-4db4-bb64-06f22f6d99dc.png)\n",
    "\n",
    "Where:\n",
    "\n",
    "- $d_{i}$ is a digit (0–9)\n",
    "- $10^{i}$ is the power of 10 based on position\n",
    "- **_i=0_** corresponds to the units place\n",
    "- Positive powers for digits to the left of the decimal, negative powers for digits to the right"
   ]
  },
  {
   "cell_type": "code",
   "execution_count": 1,
   "id": "3696ff10-fb15-4d2f-9c5a-5a24874765f2",
   "metadata": {},
   "outputs": [
    {
     "name": "stdin",
     "output_type": "stream",
     "text": [
      "Enter a decimal number (e.g., 345.67):  26661455.1285562\n"
     ]
    },
    {
     "name": "stdout",
     "output_type": "stream",
     "text": [
      "You entered the decimal number: 26661455.1285562\n",
      "\n",
      "Integer part positions:\n",
      "Digit: 5, Position: 10^0, Value: 5\n",
      "Digit: 5, Position: 10^1, Value: 50\n",
      "Digit: 4, Position: 10^2, Value: 400\n",
      "Digit: 1, Position: 10^3, Value: 1000\n",
      "Digit: 6, Position: 10^4, Value: 60000\n",
      "Digit: 6, Position: 10^5, Value: 600000\n",
      "Digit: 6, Position: 10^6, Value: 6000000\n",
      "Digit: 2, Position: 10^7, Value: 20000000\n",
      "\n",
      "Fractional part positions:\n",
      "Digit: 1, Position: 10^-1, Value: 0.1\n",
      "Digit: 2, Position: 10^-2, Value: 0.02\n",
      "Digit: 8, Position: 10^-3, Value: 0.008\n",
      "Digit: 5, Position: 10^-4, Value: 0.0005\n",
      "Digit: 5, Position: 10^-5, Value: 5e-05\n",
      "Digit: 6, Position: 10^-6, Value: 6e-06\n",
      "Digit: 2, Position: 10^-7, Value: 2e-07\n"
     ]
    }
   ],
   "source": [
    "# Python program to take user input in decimal system\n",
    "\n",
    "# Take input from user\n",
    "user_input = input(\"Enter a decimal number (e.g., 345.67): \")\n",
    "\n",
    "# Validate input and convert to float\n",
    "try:\n",
    "    decimal_number = float(user_input)\n",
    "    print(f\"You entered the decimal number: {decimal_number}\")\n",
    "    \n",
    "    # Optionally, break it down into positional values\n",
    "    integer_part, _, fractional_part = user_input.partition('.')\n",
    "    \n",
    "    print(\"\\nInteger part positions:\")\n",
    "    for i, digit in enumerate(reversed(integer_part)):\n",
    "        value = int(digit) * (10 ** i)\n",
    "        print(f\"Digit: {digit}, Position: 10^{i}, Value: {value}\")\n",
    "    \n",
    "    if fractional_part:\n",
    "        print(\"\\nFractional part positions:\")\n",
    "        for i, digit in enumerate(fractional_part, start=1):\n",
    "            value = int(digit) * (10 ** -i)\n",
    "            print(f\"Digit: {digit}, Position: 10^-{i}, Value: {value}\")\n",
    "\n",
    "except ValueError:\n",
    "    print(\"Invalid input! Please enter a valid decimal number.\")\n"
   ]
  },
  {
   "cell_type": "markdown",
   "id": "574f913d-455f-4a3c-9164-ad39a4d11e47",
   "metadata": {},
   "source": [
    "### **_GENERAL FORMULA USING EVAL FUNCTION_**"
   ]
  },
  {
   "cell_type": "code",
   "execution_count": 2,
   "id": "91d0dbb2-c18a-47b0-9e7d-df28df739085",
   "metadata": {},
   "outputs": [
    {
     "name": "stdin",
     "output_type": "stream",
     "text": [
      "Enter a decimal number (e.g., 345.67):  521245.665\n"
     ]
    },
    {
     "name": "stdout",
     "output_type": "stream",
     "text": [
      "\n",
      "You entered: 521245.665\n",
      "\n",
      "Positional formula:\n",
      "N = 5*10^5 + 2*10^4 + 1*10^3 + 2*10^2 + 4*10^1 + 5*10^0 + 6*10^-1 + 6*10^-2 + 5*10^-3\n"
     ]
    }
   ],
   "source": [
    "# Python program to display decimal number in full positional formula\n",
    "\n",
    "# Take input from user\n",
    "user_input = input(\"Enter a decimal number (e.g., 345.67): \")\n",
    "\n",
    "try:\n",
    "    # Convert to float to validate input\n",
    "    decimal_number = float(user_input)\n",
    "    print(f\"\\nYou entered: {decimal_number}\\n\")\n",
    "    \n",
    "    # Separate integer and fractional parts\n",
    "    integer_part, _, fractional_part = user_input.partition('.')\n",
    "    \n",
    "    # Process integer part\n",
    "    int_terms = []\n",
    "    n = len(integer_part) - 1\n",
    "    for digit in integer_part:\n",
    "        int_terms.append(f\"{digit}*10^{n}\")\n",
    "        n -= 1\n",
    "    \n",
    "    # Process fractional part\n",
    "    frac_terms = []\n",
    "    for i, digit in enumerate(fractional_part, start=1):\n",
    "        frac_terms.append(f\"{digit}*10^-{i}\")\n",
    "    \n",
    "    # Combine integer and fractional parts\n",
    "    all_terms = int_terms + frac_terms\n",
    "    formula = \" + \".join(all_terms)\n",
    "    \n",
    "    print(\"Positional formula:\")\n",
    "    print(f\"N = {formula}\")\n",
    "\n",
    "except ValueError:\n",
    "    print(\"Invalid input! Please enter a valid decimal number.\")\n"
   ]
  }
 ],
 "metadata": {
  "kernelspec": {
   "display_name": "Python 3 (ipykernel)",
   "language": "python",
   "name": "python3"
  },
  "language_info": {
   "codemirror_mode": {
    "name": "ipython",
    "version": 3
   },
   "file_extension": ".py",
   "mimetype": "text/x-python",
   "name": "python",
   "nbconvert_exporter": "python",
   "pygments_lexer": "ipython3",
   "version": "3.13.9"
  }
 },
 "nbformat": 4,
 "nbformat_minor": 5
}
