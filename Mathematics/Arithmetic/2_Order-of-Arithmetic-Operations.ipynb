{
 "cells": [
  {
   "cell_type": "markdown",
   "id": "4e5d9c53-55de-4fd6-b50a-dccd27537eac",
   "metadata": {},
   "source": [
    "# **Order of Arithmetic Operations**\n",
    "\n",
    "The order of arithmetic operations is **Parentheses, Exponents, Multiplication and Division (from left to right), and Addition and Subtraction (from left to right)**, often remembered by the acronym PEMDAS. Following this order is crucial for solving mathematical expressions correctly, as it ensures a consistent, single answer.\n",
    "\n",
    "**PEMDAS**\n",
    "\n",
    "- **P**arentheses: Solve expressions inside parentheses, brackets, or other grouping symbols first.\n",
    "- **E**xponents: Next, calculate any exponents or roots.\n",
    "- **M**ultiplication and **D**ivision: Perform all multiplication and division from left to right, as they have the same priority.\n",
    "- **A**ddition and **S**ubtraction: Finally, perform all addition and subtraction from left to right, as they also have the same priority."
   ]
  },
  {
   "cell_type": "code",
   "execution_count": 1,
   "id": "9af79f90-5c34-47ff-8fea-88a72a8ef9af",
   "metadata": {},
   "outputs": [
    {
     "name": "stdin",
     "output_type": "stream",
     "text": [
      "Enter arithmetic expression:  45-(5+6)*55/11-4\n"
     ]
    },
    {
     "name": "stdout",
     "output_type": "stream",
     "text": [
      "Result: -14.0\n"
     ]
    }
   ],
   "source": [
    "def calculate_expression(tokens):\n",
    "    \"\"\"Evaluate expression given as a list of tokens\"\"\"\n",
    "    \n",
    "    # Helper to perform a single operation\n",
    "    def apply_op(a, b, op):\n",
    "        if op == '+': return a + b\n",
    "        if op == '-': return a - b\n",
    "        if op == '*': return a * b\n",
    "        if op == '/': return a / b\n",
    "        if op == '**': return a ** b\n",
    "\n",
    "    # Handle parentheses recursively\n",
    "    while '(' in tokens:\n",
    "        close = tokens.index(')')\n",
    "        open_ = max(i for i in range(close) if tokens[i] == '(')\n",
    "        result = calculate_expression(tokens[open_ + 1:close])\n",
    "        tokens = tokens[:open_] + [result] + tokens[close + 1:]\n",
    "\n",
    "    # Operator precedence: **, then *, /, then +, -\n",
    "    for ops in [['**'], ['*', '/'], ['+', '-']]:\n",
    "        i = 0\n",
    "        while i < len(tokens):\n",
    "            if tokens[i] in ops:\n",
    "                a = tokens[i-1]\n",
    "                b = tokens[i+1]\n",
    "                tokens[i-1:i+2] = [apply_op(a, b, tokens[i])]\n",
    "                i -= 1  # Step back since list shrinks\n",
    "            else:\n",
    "                i += 1\n",
    "\n",
    "    return tokens[0]\n",
    "\n",
    "# Function to tokenize input string\n",
    "def tokenize(expr):\n",
    "    import re\n",
    "    tokens = re.findall(r'\\d+\\.?\\d*|[\\+\\-\\*\\/\\(\\)]|\\*\\*', expr)\n",
    "    return [float(t) if t.replace('.','',1).isdigit() else t for t in tokens]\n",
    "\n",
    "# User input\n",
    "expression = input(\"Enter arithmetic expression: \")\n",
    "tokens = tokenize(expression)\n",
    "result = calculate_expression(tokens)\n",
    "print(\"Result:\", result)\n"
   ]
  },
  {
   "cell_type": "code",
   "execution_count": 4,
   "id": "6850cc92-045b-4cc0-b636-ea2081b53261",
   "metadata": {},
   "outputs": [
    {
     "name": "stdin",
     "output_type": "stream",
     "text": [
      "Enter an arithmetic expression:  (8/2)*55*5-55\n"
     ]
    },
    {
     "name": "stdout",
     "output_type": "stream",
     "text": [
      "Result: 1045.0\n"
     ]
    }
   ],
   "source": [
    "# Function to evaluate arithmetic expressions in order\n",
    "def evaluate_expression(expr):\n",
    "    try:\n",
    "        # eval() evaluates the expression following arithmetic precedence\n",
    "        result = eval(expr)\n",
    "        return result\n",
    "    except Exception as e:\n",
    "        return f\"Error: {e}\"\n",
    "\n",
    "# User input\n",
    "expression = input(\"Enter an arithmetic expression: \")\n",
    "result = evaluate_expression(expression)\n",
    "print(f\"Result: {result}\")\n"
   ]
  }
 ],
 "metadata": {
  "kernelspec": {
   "display_name": "Python 3 (ipykernel)",
   "language": "python",
   "name": "python3"
  },
  "language_info": {
   "codemirror_mode": {
    "name": "ipython",
    "version": 3
   },
   "file_extension": ".py",
   "mimetype": "text/x-python",
   "name": "python",
   "nbconvert_exporter": "python",
   "pygments_lexer": "ipython3",
   "version": "3.13.9"
  }
 },
 "nbformat": 4,
 "nbformat_minor": 5
}
